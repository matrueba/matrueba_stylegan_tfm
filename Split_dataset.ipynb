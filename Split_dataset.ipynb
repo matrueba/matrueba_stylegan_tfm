{
  "nbformat": 4,
  "nbformat_minor": 0,
  "metadata": {
    "colab": {
      "name": "Split_dataset.ipynb",
      "provenance": [],
      "collapsed_sections": []
    },
    "kernelspec": {
      "name": "python3",
      "display_name": "Python 3"
    },
    "language_info": {
      "name": "python"
    }
  },
  "cells": [
    {
      "cell_type": "code",
      "metadata": {
        "id": "1N4OthIVegLv"
      },
      "source": [
        "import os\n",
        "import numpy as np\n",
        "import time\n",
        "from PIL import Image\n",
        "from google.colab import drive\n",
        "import glob\n",
        "import tensorflow as tf"
      ],
      "execution_count": null,
      "outputs": []
    },
    {
      "cell_type": "code",
      "metadata": {
        "id": "la_OTeYxemZT"
      },
      "source": [
        "drive.mount('/content/drive', force_remount=True)"
      ],
      "execution_count": null,
      "outputs": []
    },
    {
      "cell_type": "code",
      "metadata": {
        "id": "YwfbwDaDZ67w"
      },
      "source": [
        "src_dir=''\n",
        "train_save_dir=''\n",
        "test_save_dir=''"
      ],
      "execution_count": null,
      "outputs": []
    },
    {
      "cell_type": "code",
      "metadata": {
        "id": "5ehymZV_FrVl"
      },
      "source": [
        "image_generator = tf.keras.preprocessing.image.ImageDataGenerator(validation_split=0.15)\n",
        "train_data_gen = image_generator.flow_from_directory(directory=src_dir,\n",
        "                                                     subset='training', \n",
        "                                                     save_to_dir=train_save_dir,\n",
        "                                                     batch_size=1)\n",
        "\n",
        "val_data_gen = image_generator.flow_from_directory(directory=src_dir,\n",
        "                                                   subset='validation', \n",
        "                                                   save_to_dir=test_save_dir,\n",
        "                                                   batch_size=1)\n",
        "\n"
      ],
      "execution_count": null,
      "outputs": []
    },
    {
      "cell_type": "code",
      "metadata": {
        "id": "jab-3hg_YQyq"
      },
      "source": [
        "train_shape = len(train_data_gen)\n",
        "val_shape = len(val_data_gen)\n",
        "print(train_shape)\n",
        "print(val_shape)"
      ],
      "execution_count": null,
      "outputs": []
    },
    {
      "cell_type": "code",
      "metadata": {
        "id": "aVBHPVB1N0W7"
      },
      "source": [
        "for i in range(train_shape):\n",
        "  train_data_gen.next()"
      ],
      "execution_count": null,
      "outputs": []
    },
    {
      "cell_type": "code",
      "metadata": {
        "id": "ADTvYfaYN0eT"
      },
      "source": [
        "for i in range(val_shape):\n",
        "  val_data_gen.next()"
      ],
      "execution_count": null,
      "outputs": []
    }
  ]
}