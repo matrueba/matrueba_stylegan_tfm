{
  "nbformat": 4,
  "nbformat_minor": 0,
  "metadata": {
    "colab": {
      "name": "Resize_images.ipynb",
      "provenance": [],
      "collapsed_sections": []
    },
    "kernelspec": {
      "name": "python3",
      "display_name": "Python 3"
    },
    "language_info": {
      "name": "python"
    }
  },
  "cells": [
    {
      "cell_type": "code",
      "metadata": {
        "id": "1N4OthIVegLv"
      },
      "source": [
        "import os\n",
        "import numpy as np\n",
        "import time\n",
        "from PIL import Image\n",
        "from google.colab import drive\n",
        "import glob"
      ],
      "execution_count": null,
      "outputs": []
    },
    {
      "cell_type": "code",
      "metadata": {
        "colab": {
          "base_uri": "https://localhost:8080/"
        },
        "id": "la_OTeYxemZT",
        "outputId": "dab5fde3-ff7b-43d9-91c5-e79171e315f0"
      },
      "source": [
        "drive.mount('/content/drive', force_remount=True)"
      ],
      "execution_count": null,
      "outputs": [
        {
          "output_type": "stream",
          "text": [
            "Mounted at /content/drive\n"
          ],
          "name": "stdout"
        }
      ]
    },
    {
      "cell_type": "code",
      "metadata": {
        "id": "5ehymZV_FrVl"
      },
      "source": [
        "resize_dims = (128, 128)"
      ],
      "execution_count": null,
      "outputs": []
    },
    {
      "cell_type": "code",
      "metadata": {
        "id": "qvFOXSoXhsPs"
      },
      "source": [
        "folder = ''\n",
        "\n",
        "for index, filename in enumerate(glob.glob(folder)):\n",
        "  im = Image.open(filename)\n",
        "  resized_image = im.resize(resize_dims, Image.ANTIALIAS)\n",
        "  resized_image.save('save_resized_path'+str(index + 1)+'.png')\n"
      ],
      "execution_count": null,
      "outputs": []
    }
  ]
}